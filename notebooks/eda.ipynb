{
 "cells": [
  {
   "cell_type": "markdown",
   "id": "c1592ccf",
   "metadata": {},
   "source": [
    "# Lab 5 | EDA & Visualisation"
   ]
  },
  {
   "cell_type": "markdown",
   "id": "6bd74f3e",
   "metadata": {},
   "source": [
    "### Task A"
   ]
  },
  {
   "cell_type": "code",
   "execution_count": 31,
   "id": "5c86c348",
   "metadata": {},
   "outputs": [
    {
     "data": {
      "text/html": [
       "<div>\n",
       "<style scoped>\n",
       "    .dataframe tbody tr th:only-of-type {\n",
       "        vertical-align: middle;\n",
       "    }\n",
       "\n",
       "    .dataframe tbody tr th {\n",
       "        vertical-align: top;\n",
       "    }\n",
       "\n",
       "    .dataframe thead th {\n",
       "        text-align: right;\n",
       "    }\n",
       "</style>\n",
       "<table border=\"1\" class=\"dataframe\">\n",
       "  <thead>\n",
       "    <tr style=\"text-align: right;\">\n",
       "      <th></th>\n",
       "      <th>student_id</th>\n",
       "      <th>age</th>\n",
       "      <th>gpa</th>\n",
       "      <th>gender</th>\n",
       "      <th>major</th>\n",
       "      <th>year</th>\n",
       "    </tr>\n",
       "  </thead>\n",
       "  <tbody>\n",
       "    <tr>\n",
       "      <th>0</th>\n",
       "      <td>1</td>\n",
       "      <td>14</td>\n",
       "      <td>NaN</td>\n",
       "      <td>F</td>\n",
       "      <td>Economics</td>\n",
       "      <td>freshman</td>\n",
       "    </tr>\n",
       "    <tr>\n",
       "      <th>1</th>\n",
       "      <td>2</td>\n",
       "      <td>17</td>\n",
       "      <td>2.92</td>\n",
       "      <td>M</td>\n",
       "      <td>History</td>\n",
       "      <td>senior</td>\n",
       "    </tr>\n",
       "    <tr>\n",
       "      <th>2</th>\n",
       "      <td>3</td>\n",
       "      <td>17</td>\n",
       "      <td>2.97</td>\n",
       "      <td>F</td>\n",
       "      <td>Physics</td>\n",
       "      <td>senior</td>\n",
       "    </tr>\n",
       "    <tr>\n",
       "      <th>3</th>\n",
       "      <td>4</td>\n",
       "      <td>16</td>\n",
       "      <td>2.76</td>\n",
       "      <td>F</td>\n",
       "      <td>Physics</td>\n",
       "      <td>junior</td>\n",
       "    </tr>\n",
       "    <tr>\n",
       "      <th>4</th>\n",
       "      <td>5</td>\n",
       "      <td>16</td>\n",
       "      <td>2.24</td>\n",
       "      <td>M</td>\n",
       "      <td>Chemistry</td>\n",
       "      <td>junior</td>\n",
       "    </tr>\n",
       "  </tbody>\n",
       "</table>\n",
       "</div>"
      ],
      "text/plain": [
       "   student_id  age   gpa gender      major      year\n",
       "0           1   14   NaN      F  Economics  freshman\n",
       "1           2   17  2.92      M    History    senior\n",
       "2           3   17  2.97      F    Physics    senior\n",
       "3           4   16  2.76      F    Physics    junior\n",
       "4           5   16  2.24      M  Chemistry    junior"
      ]
     },
     "execution_count": 31,
     "metadata": {},
     "output_type": "execute_result"
    }
   ],
   "source": [
    "import pandas as pd\n",
    "df = pd.read_csv(\"../data/students.csv\")\n",
    "df.head()"
   ]
  },
  {
   "cell_type": "markdown",
   "id": "e8357a95",
   "metadata": {},
   "source": [
    "### Task B"
   ]
  },
  {
   "cell_type": "code",
   "execution_count": 32,
   "id": "1af4883e",
   "metadata": {},
   "outputs": [
    {
     "name": "stdout",
     "output_type": "stream",
     "text": [
      "<class 'pandas.core.frame.DataFrame'>\n",
      "RangeIndex: 100 entries, 0 to 99\n",
      "Data columns (total 6 columns):\n",
      " #   Column      Non-Null Count  Dtype  \n",
      "---  ------      --------------  -----  \n",
      " 0   student_id  100 non-null    int64  \n",
      " 1   age         100 non-null    int64  \n",
      " 2   gpa         90 non-null     float64\n",
      " 3   gender      100 non-null    object \n",
      " 4   major       95 non-null     object \n",
      " 5   year        100 non-null    object \n",
      "dtypes: float64(1), int64(2), object(3)\n",
      "memory usage: 4.8+ KB\n"
     ]
    },
    {
     "data": {
      "text/plain": [
       "student_id     0\n",
       "age            0\n",
       "gpa           10\n",
       "gender         0\n",
       "major          5\n",
       "year           0\n",
       "dtype: int64"
      ]
     },
     "execution_count": 32,
     "metadata": {},
     "output_type": "execute_result"
    }
   ],
   "source": [
    "df.info()\n",
    "df.isna().sum()"
   ]
  },
  {
   "cell_type": "markdown",
   "id": "6cb77b9e",
   "metadata": {},
   "source": [
    "The gpa column has the most missing values because df.isna().sum() tells me that gpa column has 10 missing values, which is more than any other column."
   ]
  },
  {
   "cell_type": "markdown",
   "id": "b676036c",
   "metadata": {},
   "source": [
    "### Task C"
   ]
  },
  {
   "cell_type": "code",
   "execution_count": 33,
   "id": "dc4fb600",
   "metadata": {},
   "outputs": [
    {
     "data": {
      "text/html": [
       "<div>\n",
       "<style scoped>\n",
       "    .dataframe tbody tr th:only-of-type {\n",
       "        vertical-align: middle;\n",
       "    }\n",
       "\n",
       "    .dataframe tbody tr th {\n",
       "        vertical-align: top;\n",
       "    }\n",
       "\n",
       "    .dataframe thead th {\n",
       "        text-align: right;\n",
       "    }\n",
       "</style>\n",
       "<table border=\"1\" class=\"dataframe\">\n",
       "  <thead>\n",
       "    <tr style=\"text-align: right;\">\n",
       "      <th></th>\n",
       "      <th>count</th>\n",
       "      <th>mean</th>\n",
       "      <th>median</th>\n",
       "      <th>variance</th>\n",
       "      <th>std</th>\n",
       "      <th>min</th>\n",
       "      <th>max</th>\n",
       "    </tr>\n",
       "  </thead>\n",
       "  <tbody>\n",
       "    <tr>\n",
       "      <th>age</th>\n",
       "      <td>100</td>\n",
       "      <td>16.130000</td>\n",
       "      <td>16.000</td>\n",
       "      <td>1.892020</td>\n",
       "      <td>1.375507</td>\n",
       "      <td>14.00</td>\n",
       "      <td>18.00</td>\n",
       "    </tr>\n",
       "    <tr>\n",
       "      <th>gpa</th>\n",
       "      <td>90</td>\n",
       "      <td>2.624667</td>\n",
       "      <td>2.665</td>\n",
       "      <td>0.227432</td>\n",
       "      <td>0.476898</td>\n",
       "      <td>1.63</td>\n",
       "      <td>3.93</td>\n",
       "    </tr>\n",
       "  </tbody>\n",
       "</table>\n",
       "</div>"
      ],
      "text/plain": [
       "     count       mean  median  variance       std    min    max\n",
       "age    100  16.130000  16.000  1.892020  1.375507  14.00  18.00\n",
       "gpa     90   2.624667   2.665  0.227432  0.476898   1.63   3.93"
      ]
     },
     "execution_count": 33,
     "metadata": {},
     "output_type": "execute_result"
    }
   ],
   "source": [
    "summary = pd.DataFrame({\n",
    "    \"count\": df[[\"age\", \"gpa\"]].count(),\n",
    "    \"mean\": df[[\"age\", \"gpa\"]].mean(),\n",
    "    \"median\": df[[\"age\", \"gpa\"]].median(),\n",
    "    \"variance\": df[[\"age\", \"gpa\"]].var(),\n",
    "    \"std\": df[[\"age\", \"gpa\"]].std(),\n",
    "    \"min\": df[[\"age\", \"gpa\"]].min(),\n",
    "    \"max\": df[[\"age\", \"gpa\"]].max()\n",
    "})\n",
    "\n",
    "summary"
   ]
  },
  {
   "cell_type": "markdown",
   "id": "5753dec3",
   "metadata": {},
   "source": [
    "### Task D"
   ]
  },
  {
   "cell_type": "code",
   "execution_count": 34,
   "id": "34521675",
   "metadata": {},
   "outputs": [
    {
     "data": {
      "text/plain": [
       "(array([18., 15., 22., 45.]),\n",
       " array([14., 15., 16., 17., 18.]),\n",
       " <BarContainer object of 4 artists>)"
      ]
     },
     "execution_count": 34,
     "metadata": {},
     "output_type": "execute_result"
    },
    {
     "data": {
      "image/png": "[encoded data removed]",
      "text/plain": [
       "<Figure size 640x480 with 1 Axes>"
      ]
     },
     "metadata": {},
     "output_type": "display_data"
    }
   ],
   "source": [
    "    import matplotlib.pyplot as plt\n",
    "    import numpy as np\n",
    "\n",
    "    plt.hist(df['age'],bins=range(14, 19), align='left', rwidth=0.8)\n",
    "    "
   ]
  },
  {
   "cell_type": "code",
   "execution_count": 35,
   "id": "8e1bcb0c",
   "metadata": {},
   "outputs": [
    {
     "data": {
      "text/plain": [
       "<Axes: xlabel='gpa', ylabel='Count'>"
      ]
     },
     "execution_count": 35,
     "metadata": {},
     "output_type": "execute_result"
    },
    {
     "data": {
      "image/png": "[encoded data removed]",
      "text/plain": [
       "<Figure size 640x480 with 1 Axes>"
      ]
     },
     "metadata": {},
     "output_type": "display_data"
    }
   ],
   "source": [
    "import seaborn as sns\n",
    "\n",
    "sns.histplot(df[\"gpa\"], kde=True)"
   ]
  },
  {
   "cell_type": "markdown",
   "id": "0a0222d1",
   "metadata": {},
   "source": [
    "The age histogram shows that a lot of people are of age between 16.5 and 17.5 years old. The gpa histogram has the Kernel Density Estimate (KDE) curve, which gives me the smoother version of the histogram."
   ]
  },
  {
   "cell_type": "markdown",
   "id": "31d394e5",
   "metadata": {},
   "source": [
    "### Task E"
   ]
  },
  {
   "cell_type": "code",
   "execution_count": 36,
   "id": "e4cdf886",
   "metadata": {},
   "outputs": [
    {
     "data": {
      "image/png": "[encoded data removed]",
      "text/plain": [
       "<Figure size 640x480 with 1 Axes>"
      ]
     },
     "metadata": {},
     "output_type": "display_data"
    },
    {
     "data": {
      "text/plain": [
       "np.float64(0.8786075344584666)"
      ]
     },
     "execution_count": 36,
     "metadata": {},
     "output_type": "execute_result"
    }
   ],
   "source": [
    "plt.scatter(df['age'],df['gpa'])\n",
    "plt.xlabel(\"age\")\n",
    "plt.ylabel(\"gpa\")\n",
    "plt.title(\"age vs gpa\")\n",
    "plt.show()\n",
    "\n",
    "df[\"age\"].corr(df[\"gpa\"])"
   ]
  },
  {
   "cell_type": "markdown",
   "id": "d3a8268a",
   "metadata": {},
   "source": [
    "GPA trends up with age because the Pearson correlation is positive."
   ]
  },
  {
   "cell_type": "markdown",
   "id": "ebbe9fac",
   "metadata": {},
   "source": [
    "### Task F"
   ]
  },
  {
   "cell_type": "code",
   "execution_count": 37,
   "id": "8c65eaf3",
   "metadata": {},
   "outputs": [
    {
     "data": {
      "text/html": [
       "<div>\n",
       "<style scoped>\n",
       "    .dataframe tbody tr th:only-of-type {\n",
       "        vertical-align: middle;\n",
       "    }\n",
       "\n",
       "    .dataframe tbody tr th {\n",
       "        vertical-align: top;\n",
       "    }\n",
       "\n",
       "    .dataframe thead th {\n",
       "        text-align: right;\n",
       "    }\n",
       "</style>\n",
       "<table border=\"1\" class=\"dataframe\">\n",
       "  <thead>\n",
       "    <tr style=\"text-align: right;\">\n",
       "      <th></th>\n",
       "      <th>student_id</th>\n",
       "      <th>age</th>\n",
       "      <th>gpa</th>\n",
       "      <th>gender</th>\n",
       "      <th>major</th>\n",
       "      <th>year</th>\n",
       "    </tr>\n",
       "  </thead>\n",
       "  <tbody>\n",
       "    <tr>\n",
       "      <th>0</th>\n",
       "      <td>1</td>\n",
       "      <td>14</td>\n",
       "      <td>NaN</td>\n",
       "      <td>F</td>\n",
       "      <td>economics</td>\n",
       "      <td>freshman</td>\n",
       "    </tr>\n",
       "    <tr>\n",
       "      <th>1</th>\n",
       "      <td>2</td>\n",
       "      <td>17</td>\n",
       "      <td>2.92</td>\n",
       "      <td>M</td>\n",
       "      <td>history</td>\n",
       "      <td>senior</td>\n",
       "    </tr>\n",
       "    <tr>\n",
       "      <th>2</th>\n",
       "      <td>3</td>\n",
       "      <td>17</td>\n",
       "      <td>2.97</td>\n",
       "      <td>F</td>\n",
       "      <td>physics</td>\n",
       "      <td>senior</td>\n",
       "    </tr>\n",
       "    <tr>\n",
       "      <th>3</th>\n",
       "      <td>4</td>\n",
       "      <td>16</td>\n",
       "      <td>2.76</td>\n",
       "      <td>F</td>\n",
       "      <td>physics</td>\n",
       "      <td>junior</td>\n",
       "    </tr>\n",
       "    <tr>\n",
       "      <th>4</th>\n",
       "      <td>5</td>\n",
       "      <td>16</td>\n",
       "      <td>2.24</td>\n",
       "      <td>M</td>\n",
       "      <td>chemistry</td>\n",
       "      <td>junior</td>\n",
       "    </tr>\n",
       "    <tr>\n",
       "      <th>...</th>\n",
       "      <td>...</td>\n",
       "      <td>...</td>\n",
       "      <td>...</td>\n",
       "      <td>...</td>\n",
       "      <td>...</td>\n",
       "      <td>...</td>\n",
       "    </tr>\n",
       "    <tr>\n",
       "      <th>95</th>\n",
       "      <td>96</td>\n",
       "      <td>15</td>\n",
       "      <td>2.37</td>\n",
       "      <td>M</td>\n",
       "      <td>art</td>\n",
       "      <td>sophomore</td>\n",
       "    </tr>\n",
       "    <tr>\n",
       "      <th>96</th>\n",
       "      <td>97</td>\n",
       "      <td>15</td>\n",
       "      <td>2.10</td>\n",
       "      <td>M</td>\n",
       "      <td>art</td>\n",
       "      <td>sophomore</td>\n",
       "    </tr>\n",
       "    <tr>\n",
       "      <th>97</th>\n",
       "      <td>98</td>\n",
       "      <td>17</td>\n",
       "      <td>2.80</td>\n",
       "      <td>F</td>\n",
       "      <td>computer science</td>\n",
       "      <td>senior</td>\n",
       "    </tr>\n",
       "    <tr>\n",
       "      <th>98</th>\n",
       "      <td>99</td>\n",
       "      <td>17</td>\n",
       "      <td>2.75</td>\n",
       "      <td>F</td>\n",
       "      <td>computer scien</td>\n",
       "      <td>senior</td>\n",
       "    </tr>\n",
       "    <tr>\n",
       "      <th>99</th>\n",
       "      <td>100</td>\n",
       "      <td>14</td>\n",
       "      <td>1.96</td>\n",
       "      <td>M</td>\n",
       "      <td>biology</td>\n",
       "      <td>freshman</td>\n",
       "    </tr>\n",
       "  </tbody>\n",
       "</table>\n",
       "<p>95 rows × 6 columns</p>\n",
       "</div>"
      ],
      "text/plain": [
       "    student_id  age   gpa gender             major       year\n",
       "0            1   14   NaN      F         economics   freshman\n",
       "1            2   17  2.92      M           history     senior\n",
       "2            3   17  2.97      F           physics     senior\n",
       "3            4   16  2.76      F           physics     junior\n",
       "4            5   16  2.24      M         chemistry     junior\n",
       "..         ...  ...   ...    ...               ...        ...\n",
       "95          96   15  2.37      M               art  sophomore\n",
       "96          97   15  2.10      M               art  sophomore\n",
       "97          98   17  2.80      F  computer science     senior\n",
       "98          99   17  2.75      F    computer scien     senior\n",
       "99         100   14  1.96      M           biology   freshman\n",
       "\n",
       "[95 rows x 6 columns]"
      ]
     },
     "execution_count": 37,
     "metadata": {},
     "output_type": "execute_result"
    }
   ],
   "source": [
    "df['major'] = df['major'].str.lower()\n",
    "df[\"major\"] = df[\"major\"].str.strip()\n",
    "\n",
    "df[\"major\"].replace(\"\", pd.NA)\n",
    "\n",
    "\n",
    "df = df.dropna(subset=[\"major\"])\n",
    "\n",
    "df\n"
   ]
  },
  {
   "cell_type": "markdown",
   "id": "442a1309",
   "metadata": {},
   "source": [
    "### Task G"
   ]
  },
  {
   "cell_type": "code",
   "execution_count": 38,
   "id": "e83197f6",
   "metadata": {},
   "outputs": [],
   "source": [
    "df.to_csv(\"../data/students_clean.csv\", index=False)\n"
   ]
  },
  {
   "cell_type": "markdown",
   "id": "62526d76",
   "metadata": {},
   "source": [
    "## Conclusion\n",
    "\n",
    "The age distribution shows a concentration around 17 years old, suggesting a majority of upper high school students in the sample. The GPA distribution is left-skewed because most students had a gpa between 2.0 and 3.0. The scatter plot of age vs. gpa shows a slight upward trend, which means that GPA tends to increase with age.\n",
    "\n",
    "\n",
    "\n"
   ]
  },
  {
   "cell_type": "markdown",
   "id": "2f32209a",
   "metadata": {},
   "source": []
  }
 ],
 "metadata": {
  "kernelspec": {
   "display_name": "lab_5",
   "language": "python",
   "name": "python3"
  },
  "language_info": {
   "codemirror_mode": {
    "name": "ipython",
    "version": 3
   },
   "file_extension": ".py",
   "mimetype": "text/x-python",
   "name": "python",
   "nbconvert_exporter": "python",
   "pygments_lexer": "ipython3",
   "version": "3.13.5"
  }
 },
 "nbformat": 4,
 "nbformat_minor": 5
}
